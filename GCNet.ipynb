{
 "cells": [
  {
   "cell_type": "code",
   "execution_count": null,
   "id": "1bd5ed11",
   "metadata": {
    "execution": {
     "iopub.execute_input": "2023-05-05T12:23:06.974003Z",
     "iopub.status.busy": "2023-05-05T12:23:06.973621Z",
     "iopub.status.idle": "2023-05-05T12:23:08.558978Z",
     "shell.execute_reply": "2023-05-05T12:23:08.558089Z",
     "shell.execute_reply.started": "2023-05-05T12:23:06.973970Z"
    }
   },
   "outputs": [],
   "source": [
    "import torch\n",
    "import torchvision\n",
    "import torchvision.transforms as transforms\n",
    "import torch.nn as nn\n",
    "import torch.optim as optim\n",
    "from torch.optim import lr_scheduler\n",
    "import matplotlib.pyplot as plt\n",
    "import numpy as np\n",
    "import math\n",
    "from mmcv.cnn import constant_init, kaiming_init"
   ]
  },
  {
   "cell_type": "code",
   "execution_count": null,
   "id": "294e9d75",
   "metadata": {
    "execution": {
     "iopub.execute_input": "2023-05-05T12:23:08.561259Z",
     "iopub.status.busy": "2023-05-05T12:23:08.560776Z",
     "iopub.status.idle": "2023-05-05T12:23:24.098649Z",
     "shell.execute_reply": "2023-05-05T12:23:24.097721Z",
     "shell.execute_reply.started": "2023-05-05T12:23:08.561232Z"
    }
   },
   "outputs": [],
   "source": [
    "device = 'cuda' if torch.cuda.is_available() else 'cpu'\n",
    "batch_size = 256\n",
    "\n",
    "train_transform = transforms.Compose([\n",
    "    transforms.RandomHorizontalFlip(),\n",
    "    transforms.RandomCrop(size=32,\n",
    "                          padding=4,       \n",
    "                          padding_mode='reflect'),\n",
    "    transforms.RandAugment(num_ops=2, magnitude=10),\n",
    "    transforms.ToTensor(),\n",
    "    transforms.Normalize([0.485, 0.456, 0.406],\n",
    "                         [0.229, 0.224, 0.225])\n",
    "])\n",
    "\n",
    "test_transform = transforms.Compose([\n",
    "    transforms.ToTensor(),\n",
    "    transforms.Normalize([0.485, 0.456, 0.406],\n",
    "                         [0.229, 0.224, 0.225])\n",
    "])\n",
    "\n",
    "trainset = torchvision.datasets.CIFAR100(root='./data', train=True,\n",
    "                                        download=True, transform=train_transform)\n",
    "trainloader = torch.utils.data.DataLoader(trainset, batch_size=batch_size,\n",
    "                                          shuffle=True, pin_memory=True, num_workers=3)\n",
    "\n",
    "testset = torchvision.datasets.CIFAR100(root='./data', train=False,\n",
    "                                       download=True, transform=test_transform)\n",
    "testloader = torch.utils.data.DataLoader(testset, batch_size=batch_size*2,\n",
    "                                         shuffle=False, pin_memory=True, num_workers=3)"
   ]
  },
  {
   "cell_type": "code",
   "execution_count": null,
   "id": "63229d07",
   "metadata": {},
   "outputs": [],
   "source": [
    "class ContextBlock2d(nn.Module):\n",
    "    def __init__(self, inplanes, planes, pool='att', fusion=['channel_add'], ratio=8):\n",
    "        super(ContextBlock2d, self).__init__()\n",
    "        self.inplanes = inplanes\n",
    "        self.planes = planes\n",
    "        self.pool = pool\n",
    "        self.fusions = fusions\n",
    "        \n",
    "        if 'att' in pool:\n",
    "            self.conv_mask = nn.Conv2d(inplanes, 1, kernel_size=1)\n",
    "            self.softmax = nn.Softmax(dim=2)\n",
    "        else:\n",
    "            self.avg_pool = nn.AdaptiveAvgPool2d(1)\n",
    "        \n",
    "        if 'channel_add' in fusions:\n",
    "            self.channel_add_conv = nn.Sequential(\n",
    "                nn.Conv2d(self.inplanes, self.planes // ratio, kernel_size=1),\n",
    "                nn.LayerNorm([self.planes // ratio, 1, 1]),\n",
    "                nn.ReLU(inplace=True),\n",
    "                nn.Conv2d(self.planes // ratio, self.inplanes, kernel_size=1)\n",
    "            )\n",
    "        else:\n",
    "            self.channel_mul_conv = None\n",
    "        self.reset_parameters()\n",
    "        \n",
    "    def reset_parameters(self):\n",
    "        if self.pool == 'att':\n",
    "            kaiming_init(self.conv_mask, mode='fan_in')\n",
    "            self.conv_mask.inited = True"
   ]
  },
  {
   "cell_type": "code",
   "execution_count": null,
   "id": "cb53d789",
   "metadata": {
    "execution": {
     "iopub.execute_input": "2023-05-05T12:23:24.165363Z",
     "iopub.status.busy": "2023-05-05T12:23:24.164892Z",
     "iopub.status.idle": "2023-05-05T12:23:27.446766Z",
     "shell.execute_reply": "2023-05-05T12:23:27.444799Z",
     "shell.execute_reply.started": "2023-05-05T12:23:24.165332Z"
    }
   },
   "outputs": [],
   "source": [
    "model = SKNet26().to(device)\n",
    "num_param = sum([param.nelement() for param in model.parameters()])\n",
    "print(\"Number of parameter: %.2fM\" % (num_param/1e6))"
   ]
  },
  {
   "cell_type": "code",
   "execution_count": null,
   "id": "34e8152e",
   "metadata": {
    "execution": {
     "iopub.execute_input": "2023-05-05T12:23:27.448646Z",
     "iopub.status.busy": "2023-05-05T12:23:27.448309Z"
    },
    "scrolled": true
   },
   "outputs": [],
   "source": [
    "%%time\n",
    "epochs = 30\n",
    "# optimizer = optim.SGD(model.parameters(), lr=0.0002, momentum=0.9, weight_decay=5e-4)\n",
    "optimizer = optim.Adam(model.parameters(), lr=0.001, betas=(0.9, 0.999), eps=1e-08)\n",
    "# sched = optim.lr_scheduler.MultiStepLR(optimizer, milestones=[10, 20], gamma=0.2)\n",
    "sched = optim.lr_scheduler.OneCycleLR(optimizer, 0.01, epochs=epochs,\n",
    "                                      steps_per_epoch=len(trainloader))\n",
    "\n",
    "\n",
    "fit(model=model,\n",
    "    epochs=epochs,\n",
    "    train_loader=trainloader,\n",
    "    valid_loader=testloader,\n",
    "    optimizer=optimizer,\n",
    "    lr_scheduler=sched,\n",
    "    loss_fn=nn.CrossEntropyLoss(),\n",
    "    warm_up=False, max_warm_up_lr=0.01,\n",
    "    grad_clip=None, updata_lr_every_epoch=False, PATH='./SKNet.pth')"
   ]
  },
  {
   "cell_type": "code",
   "execution_count": null,
   "id": "c6fb9364",
   "metadata": {},
   "outputs": [],
   "source": [
    "plt.figure(figsize=(3, 2))\n",
    "plt.plot(loss_arr)\n",
    "plt.title('loss')\n",
    "\n",
    "plt.figure(figsize=(3.5, 2.5))\n",
    "plt.plot(top1_acc_arr)\n",
    "plt.plot(top5_acc_arr)\n",
    "plt.legend(['Top1 acc','Top5 acc'])\n",
    "plt.title('Arr')\n",
    "\n",
    "plt.figure(figsize=(3, 2))\n",
    "plt.plot(lr_arr)\n",
    "plt.title('LR')"
   ]
  }
 ],
 "metadata": {
  "kernelspec": {
   "display_name": "Python 3 (ipykernel)",
   "language": "python",
   "name": "python3"
  },
  "language_info": {
   "codemirror_mode": {
    "name": "ipython",
    "version": 3
   },
   "file_extension": ".py",
   "mimetype": "text/x-python",
   "name": "python",
   "nbconvert_exporter": "python",
   "pygments_lexer": "ipython3",
   "version": "3.10.11"
  }
 },
 "nbformat": 4,
 "nbformat_minor": 5
}
