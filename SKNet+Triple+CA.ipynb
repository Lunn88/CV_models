{
 "cells": [
  {
   "cell_type": "code",
   "execution_count": 16,
   "id": "1bd5ed11",
   "metadata": {
    "execution": {
     "iopub.execute_input": "2023-05-05T12:23:06.974003Z",
     "iopub.status.busy": "2023-05-05T12:23:06.973621Z",
     "iopub.status.idle": "2023-05-05T12:23:08.558978Z",
     "shell.execute_reply": "2023-05-05T12:23:08.558089Z",
     "shell.execute_reply.started": "2023-05-05T12:23:06.973970Z"
    }
   },
   "outputs": [],
   "source": [
    "import torch\n",
    "import torchvision\n",
    "import torchvision.transforms as transforms\n",
    "import torch.nn as nn\n",
    "import torch.optim as optim\n",
    "from torch.optim import lr_scheduler\n",
    "import matplotlib.pyplot as plt\n",
    "import numpy as np\n",
    "import math"
   ]
  },
  {
   "cell_type": "code",
   "execution_count": 17,
   "id": "294e9d75",
   "metadata": {
    "execution": {
     "iopub.execute_input": "2023-05-05T12:23:08.561259Z",
     "iopub.status.busy": "2023-05-05T12:23:08.560776Z",
     "iopub.status.idle": "2023-05-05T12:23:24.098649Z",
     "shell.execute_reply": "2023-05-05T12:23:24.097721Z",
     "shell.execute_reply.started": "2023-05-05T12:23:08.561232Z"
    }
   },
   "outputs": [
    {
     "name": "stdout",
     "output_type": "stream",
     "text": [
      "Files already downloaded and verified\n",
      "Files already downloaded and verified\n"
     ]
    }
   ],
   "source": [
    "device = 'cuda'\n",
    "batch_size = 256\n",
    "\n",
    "train_transform = transforms.Compose([\n",
    "    transforms.RandomHorizontalFlip(),\n",
    "    transforms.RandomCrop(size=32,\n",
    "                          padding=4,       \n",
    "                          padding_mode='reflect'),\n",
    "    transforms.RandAugment(num_ops=2, magnitude=10),\n",
    "    transforms.ToTensor(),\n",
    "    transforms.Normalize([0.485, 0.456, 0.406],\n",
    "                         [0.229, 0.224, 0.225])\n",
    "])\n",
    "\n",
    "test_transform = transforms.Compose([\n",
    "    transforms.ToTensor(),\n",
    "    transforms.Normalize([0.485, 0.456, 0.406],\n",
    "                         [0.229, 0.224, 0.225])\n",
    "])\n",
    "\n",
    "trainset = torchvision.datasets.CIFAR100(root='./data', train=True,\n",
    "                                        download=True, transform=train_transform)\n",
    "trainloader = torch.utils.data.DataLoader(trainset, batch_size=batch_size,\n",
    "                                          shuffle=True, pin_memory=True, num_workers=3)\n",
    "\n",
    "testset = torchvision.datasets.CIFAR100(root='./data', train=False,\n",
    "                                       download=True, transform=test_transform)\n",
    "testloader = torch.utils.data.DataLoader(testset, batch_size=batch_size*2,\n",
    "                                         shuffle=False, pin_memory=True, num_workers=3)"
   ]
  },
  {
   "cell_type": "markdown",
   "id": "a872ae88",
   "metadata": {},
   "source": [
    "# Triple Attention"
   ]
  },
  {
   "cell_type": "code",
   "execution_count": 18,
   "id": "bf52573d",
   "metadata": {},
   "outputs": [],
   "source": [
    "class BasicConv(nn.Module):\n",
    "    def __init__(self, in_planes, out_planes, kernel_size, stride=1, padding=0, dilation=1, groups=1, relu=True, bn=True, bias=False):\n",
    "        super(BasicConv, self).__init__()\n",
    "        self.conv = nn.Conv2d(in_planes, out_planes, kernel_size=kernel_size, stride=stride,\n",
    "                              padding=padding, dilation=dilation, groups=groups, bias=bias)\n",
    "        self.bn = nn.BatchNorm2d(out_planes, eps=1e-5, momentum=0.01, affine=True) if bn else None\n",
    "        self.relu = nn.ReLU(True) if relu else None\n",
    "        \n",
    "    def forward(self, x):\n",
    "        out = self.conv(x)\n",
    "        if self.bn is not None:\n",
    "            out = self.bn(out)\n",
    "        if self.relu is not None:\n",
    "            out = self.relu(out)\n",
    "        return out\n",
    "    \n",
    "class ChannelPool(nn.Module):\n",
    "    def forward(self, x):\n",
    "        return torch.cat(\n",
    "            (torch.max(x, 1)[0].unsqueeze(1), torch.mean(x, 1).unsqueeze(1)), dim=1\n",
    "        )\n",
    "    \n",
    "class SpatialGate(nn.Module):\n",
    "    def __init__(self):\n",
    "        super(SpatialGate, self).__init__()\n",
    "        kernel_size = 7\n",
    "        self.compress = ChannelPool()\n",
    "        self.spatial = BasicConv(\n",
    "            2, 1, kernel_size, stride=1, padding=(kernel_size-1) // 2, relu=False\n",
    "        )\n",
    "    \n",
    "    def forward(self, x):\n",
    "        x_compress = self.compress(x)\n",
    "        x_out = self.spatial(x_compress)\n",
    "        scale = torch.sigmoid_(x_out)\n",
    "        return x * scale\n",
    "    \n",
    "class TripleAttention(nn.Module):\n",
    "    def __init__(self, gate_channels, reduction_ratio=16, pool_types=[\"avg\", \"max\"], no_spatial=False):\n",
    "        super(TripleAttention, self).__init__()\n",
    "        self.ChannelGate_H = SpatialGate()\n",
    "        self.ChannelGate_W = SpatialGate()\n",
    "        self.no_spatial = no_spatial\n",
    "        if not no_spatial:\n",
    "            self.SpatialGate = SpatialGate()\n",
    "\n",
    "    def forward(self, x):\n",
    "        x_perm1 = x.permute(0, 2, 1, 3).contiguous()\n",
    "        out_CW = self.ChannelGate_H(x_perm1)\n",
    "        out_CW = out_CW.permute(0, 2, 1, 3).contiguous()\n",
    "\n",
    "        x_perm2 = x.permute(0, 3, 2, 1).contiguous()\n",
    "        out_CH = self.ChannelGate_W(x_perm2)\n",
    "        out_CH = out_CH.permute(0, 3, 2, 1).contiguous()\n",
    "        if not self.no_spatial:\n",
    "            out = self.SpatialGate(x)\n",
    "            out = (1/3) * (out + out_CW + out_CH)\n",
    "        else:\n",
    "            out = (1/2) * (out_CW + out_CH)\n",
    "        return out"
   ]
  },
  {
   "cell_type": "markdown",
   "id": "ec811037",
   "metadata": {},
   "source": [
    "# Coordinate Attention"
   ]
  },
  {
   "cell_type": "code",
   "execution_count": 19,
   "id": "b6a8955e",
   "metadata": {},
   "outputs": [],
   "source": [
    "class CA_Act(nn.Module):\n",
    "    def __init__(self):\n",
    "        super(CA_Act, self).__init__()\n",
    "        self.relu = nn.ReLU6(True)\n",
    "        \n",
    "    def forward(self, x):\n",
    "        out = self.relu(x + 3) / 6\n",
    "        return x * out\n",
    "    \n",
    "class CA_Layer(nn.Module):\n",
    "    def __init__(self, in_channel, out_channel, stride, i):\n",
    "        super(CA_Layer, self).__init__()\n",
    "        self.pool_h = nn.AdaptiveAvgPool2d((None, 1))\n",
    "        self.pool_w = nn.AdaptiveAvgPool2d((1, None))\n",
    "        \n",
    "        middle_channel = max(8, in_channel//32)\n",
    "\n",
    "        self.conv1 = nn.Conv2d(in_channel, middle_channel, kernel_size=3, stride=stride,\n",
    "                               padding=i+1, dilation=i+1, bias=False)\n",
    "        self.bn1 = nn.BatchNorm2d(middle_channel)\n",
    "        self.convh = nn.Conv2d(middle_channel, out_channel, kernel_size=1, stride=1, padding=0)\n",
    "        self.convw = nn.Conv2d(middle_channel, out_channel, kernel_size=1, stride=1, padding=0)\n",
    "        self.relu = CA_Act()\n",
    "        \n",
    "    def forward(self, x):\n",
    "        identity = x\n",
    "        n, c, h, w = x.size()\n",
    "        x_h = self.pool_h(x)\n",
    "        x_w = self.pool_w(x).permute(0, 1, 3, 2)\n",
    "        \n",
    "        y = torch.cat([x_h, x_w], dim=2)\n",
    "        y = self.conv1(y)\n",
    "        y = self.bn1(y)\n",
    "        y = self.relu(y)\n",
    "        x_h, x_w = torch.split(y, [h, w], dim=2)\n",
    "        x_w = x_w.permute(0, 1, 3, 2)\n",
    "        \n",
    "        x_h = self.convh(x_h).sigmoid()\n",
    "        x_w = self.convw(x_w).sigmoid()\n",
    "        x_h = x_h.expand(-1, -1, h, w)\n",
    "        x_w = x_w.expand(-1, -1, h, w)\n",
    "        \n",
    "        out = identity * x_w * x_h\n",
    "        return out"
   ]
  },
  {
   "cell_type": "code",
   "execution_count": 20,
   "id": "5889c7dc",
   "metadata": {},
   "outputs": [],
   "source": [
    "class Dense_Layer(nn.Module):\n",
    "    def __init__(self, in_channel):\n",
    "        super().__init__()\n",
    "#         middle_channel = 4 * growth_rate\n",
    "        growth_rate = in_channel // 2\n",
    "        \n",
    "        self.conv1 = nn.Conv2d(in_channel, growth_rate, kernel_size=3, padding=1, bias=False)\n",
    "        self.bn1 = nn.BatchNorm2d(growth_rate)\n",
    "        self.relu = nn.ReLU(True)\n",
    "        \n",
    "#         self.triplet_attention = TripleAttention(middle_channel)\n",
    "#         self.coordinate_attention = CA_Layer(middle_channel, middle_channel)\n",
    "    \n",
    "    def forward(self, x):\n",
    "#         out = self.triplet_attention(out)\n",
    "#         out = self.coordinate_attention(out)\n",
    "        out = self.conv1(x)\n",
    "        out = self.bn1(out)\n",
    "        out = self.relu(out)\n",
    "        \n",
    "        return torch.cat([x, out], 1) # cat on dim 1"
   ]
  },
  {
   "cell_type": "markdown",
   "id": "b7459bc6",
   "metadata": {},
   "source": [
    "# SK-Net"
   ]
  },
  {
   "cell_type": "code",
   "execution_count": 21,
   "id": "03377b19",
   "metadata": {
    "execution": {
     "iopub.execute_input": "2023-05-05T12:23:24.100248Z",
     "iopub.status.busy": "2023-05-05T12:23:24.099905Z",
     "iopub.status.idle": "2023-05-05T12:23:24.120921Z",
     "shell.execute_reply": "2023-05-05T12:23:24.119967Z",
     "shell.execute_reply.started": "2023-05-05T12:23:24.100215Z"
    }
   },
   "outputs": [],
   "source": [
    "class SKConv(nn.Module):\n",
    "    def __init__(self, features, M=2, G=32, r=16, stride=1, L=32, growth_rate=16):\n",
    "        super(SKConv, self).__init__()\n",
    "        \n",
    "        d = max(int(features/r), L)\n",
    "        self.M = M\n",
    "        self.features = features\n",
    "        \n",
    "        self.convs = nn.ModuleList([])\n",
    "        for i in range(M):\n",
    "            self.convs.append(nn.Sequential(\n",
    "                nn.Conv2d(features, features, kernel_size=3, stride=stride,\n",
    "                          padding=1+i, dilation=1+i, groups=G, bias=False),\n",
    "                nn.BatchNorm2d(features),\n",
    "                nn.ReLU(True)\n",
    "            ))\n",
    "        self.gap = nn.AdaptiveAvgPool2d((1, 1))\n",
    "        self.fc = nn.Sequential(\n",
    "            nn.Conv2d(features, d, kernel_size=1, stride=1, bias=False),\n",
    "            nn.BatchNorm2d(d),\n",
    "            nn.ReLU(True)\n",
    "        )\n",
    "        self.fcs = nn.ModuleList([])\n",
    "        for i in range(M):\n",
    "            self.fcs.append(\n",
    "                nn.Conv2d(d, features, kernel_size=1, stride=1)\n",
    "            )\n",
    "        self.softmax = nn.Softmax(dim=1)\n",
    "        \n",
    "    def forward(self, x):\n",
    "        batch_size = x.shape[0]\n",
    "        \n",
    "        feats = [conv(x) for conv in self.convs]\n",
    "        feats = torch.cat(feats, dim=1)\n",
    "        feats = feats.view(batch_size, self.M, self.features, feats.shape[2], feats.shape[3])\n",
    "        \n",
    "        feats_U = torch.sum(feats, dim=1)\n",
    "        feats_S = self.gap(feats_U)\n",
    "        feats_Z = self.fc(feats_S)\n",
    "        \n",
    "        attention = [fc(feats_Z) for fc in self.fcs]\n",
    "        attention = torch.cat(attention, dim=1)\n",
    "        attention = attention.view(batch_size, self.M, self.features, 1, 1)\n",
    "        attention = self.softmax(attention)\n",
    "        \n",
    "        feats_V = torch.sum(feats * attention, dim=1)\n",
    "        return feats_V\n",
    "    \n",
    "    \n",
    "class SKUnit(nn.Module):\n",
    "    def __init__(self, in_features, middle_features, out_features, M=2, G=32, r=16, stride=1, L=32):\n",
    "        super(SKUnit, self).__init__()\n",
    "        \n",
    "        self.conv1 = nn.Sequential(\n",
    "            nn.Conv2d(in_features, middle_features, kernel_size=1, stride=1, bias=False),\n",
    "            nn.BatchNorm2d(middle_features),\n",
    "            nn.ReLU(True)\n",
    "        )\n",
    "        self.conv2_sk = SKConv(middle_features, M, G, r, stride, L)\n",
    "        self.dense_layer = Dense_Layer(middle_features)\n",
    "        self.conv3 = nn.Sequential(\n",
    "            nn.Conv2d(middle_features+middle_features//2, out_features, kernel_size=1, stride=1, bias=False),\n",
    "            nn.BatchNorm2d(out_features)\n",
    "        )\n",
    "        \n",
    "        if in_features == out_features:\n",
    "            self.shortcut = nn.Sequential()\n",
    "        else:\n",
    "            self.shortcut = nn.Sequential(\n",
    "                nn.Conv2d(in_features, out_features, 1, stride, bias=False),\n",
    "                nn.BatchNorm2d(out_features)\n",
    "            )\n",
    "        \n",
    "        self.relu = nn.ReLU(True)\n",
    "        \n",
    "    def forward(self, x):\n",
    "        identity = x\n",
    "        out = self.conv1(x)\n",
    "        out = self.conv2_sk(out)\n",
    "        out = self.dense_layer(out)\n",
    "        out = self.conv3(out)\n",
    "        out = out + self.shortcut(identity)\n",
    "        out = self.relu(out)\n",
    "        return out\n",
    "    \n",
    "class SKNet(nn.Module):\n",
    "    def __init__(self, num_classes, block_config, strides_list=[1, 2, 2, 2]):\n",
    "        super(SKNet, self).__init__()\n",
    "        self.basic_conv = nn.Sequential(\n",
    "            nn.Conv2d(3, 64, 7, 2, 3, bias=False),\n",
    "            nn.BatchNorm2d(64),\n",
    "            nn.ReLU(True)\n",
    "        )\n",
    "        \n",
    "        self.maxpool = nn.MaxPool2d(3, 2, 1)\n",
    "        \n",
    "        self.stage_1 = self.make_layer(64, 128, 256, num_blocks=block_config[0], stride=strides_list[0])\n",
    "        self.stage_2 = self.make_layer(256, 256, 384, num_blocks=block_config[1], stride=strides_list[1])\n",
    "        self.stage_3 = self.make_layer(384, 384, 512, num_blocks=block_config[2], stride=strides_list[2])\n",
    "        self.stage_4 = self.make_layer(512, 512, 1024, num_blocks=block_config[3], stride=strides_list[3])\n",
    "        \n",
    "        self.gap = nn.AdaptiveAvgPool2d((1, 1))\n",
    "        self.classifier = nn.Linear(1024, num_classes)\n",
    "        \n",
    "        for m in self.modules():\n",
    "            if isinstance(m, nn.Conv2d):\n",
    "                nn.init.kaiming_normal_(m.weight, mode='fan_out', nonlinearity='relu')\n",
    "            elif isinstance(m, nn.BatchNorm2d):\n",
    "                nn.init.constant_(m.weight, 1)\n",
    "                nn.init.constant_(m.bias, 0)\n",
    "        \n",
    "    def make_layer(self, in_features, middle_features, out_features, num_blocks, stride=1):\n",
    "        layers = [SKUnit(in_features, middle_features, out_features, stride)]\n",
    "        for _ in range(1, num_blocks):\n",
    "            layers.append(SKUnit(out_features, middle_features, out_features))\n",
    "        return nn.Sequential(*layers)\n",
    "    \n",
    "    def forward(self, x):\n",
    "        out = self.basic_conv(x)\n",
    "        out = self.maxpool(out)\n",
    "        out = self.stage_1(out)\n",
    "        out = self.stage_2(out)\n",
    "        out = self.stage_3(out)\n",
    "        out = self.stage_4(out)\n",
    "        out = self.gap(out)\n",
    "        out = torch.squeeze(out)\n",
    "        out = self.classifier(out)\n",
    "        return out\n",
    "\n",
    "def SKNet26(num_classes=100):\n",
    "    return SKNet(num_classes, [2,2,2,2])\n",
    "\n",
    "def SKNet50(num_classes=100):\n",
    "    return SKNet(num_classes, [3,4,6,3])"
   ]
  },
  {
   "cell_type": "code",
   "execution_count": 22,
   "id": "f62e4454",
   "metadata": {
    "execution": {
     "iopub.execute_input": "2023-05-05T12:23:24.124062Z",
     "iopub.status.busy": "2023-05-05T12:23:24.123077Z",
     "iopub.status.idle": "2023-05-05T12:23:24.139675Z",
     "shell.execute_reply": "2023-05-05T12:23:24.138704Z",
     "shell.execute_reply.started": "2023-05-05T12:23:24.124007Z"
    }
   },
   "outputs": [],
   "source": [
    "def get_lr(optimizer):\n",
    "    for param_group in optimizer.param_groups:\n",
    "        return param_group['lr']\n",
    "def adjust_learning_rate(optimizer, current_iter, warmup_iter, max_warm_up_lr):\n",
    "    if current_iter <= warmup_iter:\n",
    "        lr = max_warm_up_lr * current_iter / warmup_iter\n",
    "    for param_group in optimizer.param_groups:\n",
    "        param_group['lr'] = lr"
   ]
  },
  {
   "cell_type": "code",
   "execution_count": 23,
   "id": "7a61b9d1",
   "metadata": {
    "execution": {
     "iopub.execute_input": "2023-05-05T12:23:24.151379Z",
     "iopub.status.busy": "2023-05-05T12:23:24.150866Z",
     "iopub.status.idle": "2023-05-05T12:23:24.163507Z",
     "shell.execute_reply": "2023-05-05T12:23:24.162569Z",
     "shell.execute_reply.started": "2023-05-05T12:23:24.151346Z"
    },
    "scrolled": true
   },
   "outputs": [],
   "source": [
    "loss_arr = []\n",
    "top1_acc_arr = []\n",
    "top5_acc_arr = []\n",
    "lr_arr = []\n",
    "\n",
    "def fit(model, epochs, train_loader, valid_loader, optimizer, lr_scheduler,\n",
    "        loss_fn, updata_lr_every_epoch, warm_up=False, max_warm_up_lr=0.01, grad_clip=None, PATH='./SKNet.pth'):\n",
    "    log_interval = int((50000/batch_size)/2)\n",
    "    for epoch in range(epochs):\n",
    "        print(f\"{'='*20} Epoch: {epoch+1} {'='*20}\\n\")\n",
    "        model.train()\n",
    "        avg_loss = 0\n",
    "        \n",
    "        for i, (inputs, targets) in enumerate(train_loader):\n",
    "            if warm_up != False and epoch <= warm_up:\n",
    "                adjust_learning_rate(optimizer, (i+1)+epoch*len(train_loader), len(train_loader)*warm_up, max_warm_up_lr=max_warm_up_lr)\n",
    "                lr_arr.append(get_lr(optimizer))\n",
    "            outputs = model(inputs.to(device))\n",
    "            loss = loss_fn(outputs, targets.to(device))\n",
    "            loss.backward()\n",
    "            if grad_clip is not None:\n",
    "                nn.utils.clip_grad_value_(model.parameters(), grad_clip)\n",
    "            optimizer.step()\n",
    "            if lr_scheduler is not None and updata_lr_every_epoch == False:\n",
    "                lr_scheduler.step()\n",
    "                lr_arr.append(get_lr(optimizer))\n",
    "            optimizer.zero_grad()\n",
    "            \n",
    "            avg_loss += loss.item()\n",
    "            if i % log_interval == log_interval-1:\n",
    "                avg_loss = avg_loss/log_interval\n",
    "                print(f\"batch: {i+1}, train_loss: {avg_loss:.4f}\")\n",
    "                avg_loss = 0\n",
    "                \n",
    "        if lr_scheduler is not None and updata_lr_every_epoch == True:\n",
    "            lr_scheduler.step()\n",
    "            lr_arr.append(get_lr(optimizer))\n",
    "        if lr_scheduler is None:\n",
    "            lr_arr.append(get_lr(optimizer))\n",
    "        \n",
    "        model.eval()\n",
    "        top1_correct = 0\n",
    "        top5_correct = 0\n",
    "        total = 0\n",
    "        avg_loss = 0\n",
    "        with torch.no_grad():\n",
    "            for (images, labels) in valid_loader:\n",
    "                labels = labels.to(device)\n",
    "                outputs = model(images.to(device))\n",
    "                _, predicted = torch.topk(outputs.data, 5, dim=1, largest=True, sorted=True)\n",
    "                total += labels.cpu().size(0)\n",
    "                top1_correct += (predicted[:, 0] == labels).sum().item()\n",
    "                for i in range(len(labels)):\n",
    "                    if labels[i] in predicted[i]:\n",
    "                        top5_correct += 1\n",
    "                avg_loss += loss_fn(outputs, labels)\n",
    "            avg_loss = avg_loss.cpu() / len(valid_loader)\n",
    "            loss_arr.append(avg_loss)\n",
    "            top1_acc = 100 * top1_correct / total\n",
    "            top5_acc = 100 * top5_correct / total\n",
    "            top1_acc_arr.append(top1_acc)\n",
    "            top5_acc_arr.append(top5_acc)\n",
    "        print(f'Top1 Accuracy: {top1_acc}% ({top1_correct} / {total}), Top5 Accuracy: {top5_acc}% ({top5_correct} / {total}), Loss: {avg_loss:.3f}, Last_lr: {lr_arr[-1]:.5f}')\n",
    "    torch.save(model, PATH)"
   ]
  },
  {
   "cell_type": "code",
   "execution_count": 24,
   "id": "cb53d789",
   "metadata": {
    "execution": {
     "iopub.execute_input": "2023-05-05T12:23:24.165363Z",
     "iopub.status.busy": "2023-05-05T12:23:24.164892Z",
     "iopub.status.idle": "2023-05-05T12:23:27.446766Z",
     "shell.execute_reply": "2023-05-05T12:23:27.444799Z",
     "shell.execute_reply.started": "2023-05-05T12:23:24.165332Z"
    }
   },
   "outputs": [
    {
     "name": "stdout",
     "output_type": "stream",
     "text": [
      "Number of parameter: 10.09M\n"
     ]
    }
   ],
   "source": [
    "model = SKNet26().to(device)\n",
    "num_param = sum([param.nelement() for param in model.parameters()])\n",
    "print(\"Number of parameter: %.2fM\" % (num_param/1e6))"
   ]
  },
  {
   "cell_type": "code",
   "execution_count": 27,
   "id": "34e8152e",
   "metadata": {
    "execution": {
     "iopub.execute_input": "2023-05-05T12:23:27.448646Z",
     "iopub.status.busy": "2023-05-05T12:23:27.448309Z"
    },
    "scrolled": true
   },
   "outputs": [
    {
     "name": "stdout",
     "output_type": "stream",
     "text": [
      "==================== Epoch: 1 ====================\n",
      "\n"
     ]
    },
    {
     "ename": "KeyboardInterrupt",
     "evalue": "",
     "output_type": "error",
     "traceback": [
      "\u001b[1;31m---------------------------------------------------------------------------\u001b[0m",
      "\u001b[1;31mKeyboardInterrupt\u001b[0m                         Traceback (most recent call last)",
      "File \u001b[1;32m<timed exec>:8\u001b[0m\n",
      "Cell \u001b[1;32mIn[23], line 30\u001b[0m, in \u001b[0;36mfit\u001b[1;34m(model, epochs, train_loader, valid_loader, optimizer, lr_scheduler, loss_fn, updata_lr_every_epoch, warm_up, max_warm_up_lr, grad_clip, PATH)\u001b[0m\n\u001b[0;32m     27\u001b[0m optimizer\u001b[38;5;241m.\u001b[39mzero_grad()\n\u001b[0;32m     29\u001b[0m avg_loss \u001b[38;5;241m+\u001b[39m\u001b[38;5;241m=\u001b[39m loss\u001b[38;5;241m.\u001b[39mitem()\n\u001b[1;32m---> 30\u001b[0m \u001b[38;5;28;01mif\u001b[39;00m \u001b[43mi\u001b[49m\u001b[43m \u001b[49m\u001b[38;5;241;43m%\u001b[39;49m\u001b[43m \u001b[49m\u001b[43mlog_interval\u001b[49m\u001b[43m \u001b[49m\u001b[38;5;241;43m==\u001b[39;49m\u001b[43m \u001b[49m\u001b[43mlog_interval\u001b[49m\u001b[38;5;241;43m-\u001b[39;49m\u001b[38;5;241;43m1\u001b[39;49m:\n\u001b[0;32m     31\u001b[0m     avg_loss \u001b[38;5;241m=\u001b[39m avg_loss\u001b[38;5;241m/\u001b[39mlog_interval\n\u001b[0;32m     32\u001b[0m     \u001b[38;5;28mprint\u001b[39m(\u001b[38;5;124mf\u001b[39m\u001b[38;5;124m\"\u001b[39m\u001b[38;5;124mbatch: \u001b[39m\u001b[38;5;132;01m{\u001b[39;00mi\u001b[38;5;241m+\u001b[39m\u001b[38;5;241m1\u001b[39m\u001b[38;5;132;01m}\u001b[39;00m\u001b[38;5;124m, train_loss: \u001b[39m\u001b[38;5;132;01m{\u001b[39;00mavg_loss\u001b[38;5;132;01m:\u001b[39;00m\u001b[38;5;124m.4f\u001b[39m\u001b[38;5;132;01m}\u001b[39;00m\u001b[38;5;124m\"\u001b[39m)\n",
      "\u001b[1;31mKeyboardInterrupt\u001b[0m: "
     ]
    }
   ],
   "source": [
    "%%time\n",
    "epochs = 30\n",
    "# optimizer = optim.SGD(model.parameters(), lr=0.0002, momentum=0.9, weight_decay=5e-4)\n",
    "optimizer = optim.Adam(model.parameters(), lr=0.001, betas=(0.9, 0.999), eps=1e-08)\n",
    "# sched = optim.lr_scheduler.MultiStepLR(optimizer, milestones=[10, 20], gamma=0.2)\n",
    "sched = optim.lr_scheduler.OneCycleLR(optimizer, 0.01, epochs=epochs,\n",
    "                                      steps_per_epoch=len(trainloader))\n",
    "\n",
    "fit(model=model,\n",
    "    epochs=epochs,\n",
    "    train_loader=trainloader,\n",
    "    valid_loader=testloader,\n",
    "    optimizer=optimizer,\n",
    "    lr_scheduler=sched,\n",
    "    loss_fn=nn.CrossEntropyLoss(),\n",
    "    warm_up=False, max_warm_up_lr=0.01,\n",
    "    grad_clip=None, updata_lr_every_epoch=False, PATH='./SKNet.pth')"
   ]
  },
  {
   "cell_type": "code",
   "execution_count": 26,
   "id": "c6fb9364",
   "metadata": {},
   "outputs": [
    {
     "data": {
      "text/plain": [
       "Text(0.5, 1.0, 'LR')"
      ]
     },
     "execution_count": 26,
     "metadata": {},
     "output_type": "execute_result"
    },
    {
     "data": {
      "image/png": "[encoded data removed]",
      "text/plain": [
       "<Figure size 300x200 with 1 Axes>"
      ]
     },
     "metadata": {},
     "output_type": "display_data"
    },
    {
     "data": {
      "image/png": "[encoded data removed]",
      "text/plain": [
       "<Figure size 350x250 with 1 Axes>"
      ]
     },
     "metadata": {},
     "output_type": "display_data"
    },
    {
     "data": {
      "image/png": "[encoded data removed]",
      "text/plain": [
       "<Figure size 300x200 with 1 Axes>"
      ]
     },
     "metadata": {},
     "output_type": "display_data"
    }
   ],
   "source": [
    "plt.figure(figsize=(3, 2))\n",
    "plt.plot(loss_arr)\n",
    "plt.title('loss')\n",
    "\n",
    "plt.figure(figsize=(3.5, 2.5))\n",
    "plt.plot(top1_acc_arr)\n",
    "plt.plot(top5_acc_arr)\n",
    "plt.legend(['Top1 acc','Top5 acc'])\n",
    "plt.title('Arr')\n",
    "\n",
    "plt.figure(figsize=(3, 2))\n",
    "plt.plot(lr_arr)\n",
    "plt.title('LR')"
   ]
  },
  {
   "cell_type": "code",
   "execution_count": null,
   "id": "eac9ce9b",
   "metadata": {},
   "outputs": [],
   "source": []
  }
 ],
 "metadata": {
  "kernelspec": {
   "display_name": "Python 3 (ipykernel)",
   "language": "python",
   "name": "python3"
  },
  "language_info": {
   "codemirror_mode": {
    "name": "ipython",
    "version": 3
   },
   "file_extension": ".py",
   "mimetype": "text/x-python",
   "name": "python",
   "nbconvert_exporter": "python",
   "pygments_lexer": "ipython3",
   "version": "3.10.11"
  }
 },
 "nbformat": 4,
 "nbformat_minor": 5
}
