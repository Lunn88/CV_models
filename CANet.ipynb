{
 "cells": [
  {
   "cell_type": "code",
   "execution_count": 4,
   "id": "a5ac1a57",
   "metadata": {
    "execution": {
     "iopub.execute_input": "2023-05-04T15:01:23.067351Z",
     "iopub.status.busy": "2023-05-04T15:01:23.066730Z",
     "iopub.status.idle": "2023-05-04T15:01:23.078864Z",
     "shell.execute_reply": "2023-05-04T15:01:23.077519Z",
     "shell.execute_reply.started": "2023-05-04T15:01:23.067307Z"
    }
   },
   "outputs": [],
   "source": [
    "import torch\n",
    "import torchvision\n",
    "import torchvision.transforms as transforms\n",
    "import torch.nn as nn\n",
    "import torch.optim as optim\n",
    "from torch.optim import lr_scheduler\n",
    "import matplotlib.pyplot as plt\n",
    "import numpy as np\n",
    "import math"
   ]
  },
  {
   "cell_type": "code",
   "execution_count": 9,
   "id": "f102f476",
   "metadata": {
    "execution": {
     "iopub.execute_input": "2023-05-04T15:01:23.086971Z",
     "iopub.status.busy": "2023-05-04T15:01:23.085260Z",
     "iopub.status.idle": "2023-05-04T15:01:24.888169Z",
     "shell.execute_reply": "2023-05-04T15:01:24.887259Z",
     "shell.execute_reply.started": "2023-05-04T15:01:23.086889Z"
    }
   },
   "outputs": [
    {
     "name": "stdout",
     "output_type": "stream",
     "text": [
      "Files already downloaded and verified\n",
      "Files already downloaded and verified\n"
     ]
    }
   ],
   "source": [
    "device = 'cuda' if torch.cuda.is_available() else 'cpu'\n",
    "batch_size = 256\n",
    "\n",
    "train_transform = transforms.Compose([\n",
    "    transforms.RandomHorizontalFlip(),\n",
    "    transforms.RandomCrop(size=32,\n",
    "                          padding=4,       \n",
    "                          padding_mode='reflect'),\n",
    "    transforms.RandAugment(num_ops=2, magnitude=10),\n",
    "    transforms.ToTensor(),\n",
    "    transforms.Normalize([0.485, 0.456, 0.406],\n",
    "                         [0.229, 0.224, 0.225])\n",
    "])\n",
    "\n",
    "test_transform = transforms.Compose([\n",
    "    transforms.ToTensor(),\n",
    "    transforms.Normalize([0.485, 0.456, 0.406],\n",
    "                         [0.229, 0.224, 0.225])\n",
    "])\n",
    "\n",
    "trainset = torchvision.datasets.CIFAR100(root='./data', train=True,\n",
    "                                        download=True, transform=train_transform)\n",
    "trainloader = torch.utils.data.DataLoader(trainset, batch_size=batch_size,\n",
    "                                          shuffle=True, pin_memory=True, num_workers=3)\n",
    "\n",
    "testset = torchvision.datasets.CIFAR100(root='./data', train=False,\n",
    "                                       download=True, transform=test_transform)\n",
    "testloader = torch.utils.data.DataLoader(testset, batch_size=batch_size*2,\n",
    "                                         shuffle=False, pin_memory=True, num_workers=3)"
   ]
  },
  {
   "cell_type": "markdown",
   "id": "64ce3158",
   "metadata": {},
   "source": [
    "# CA-Net"
   ]
  },
  {
   "cell_type": "code",
   "execution_count": 10,
   "id": "83abb1eb",
   "metadata": {
    "execution": {
     "iopub.execute_input": "2023-05-04T15:01:24.890512Z",
     "iopub.status.busy": "2023-05-04T15:01:24.890197Z",
     "iopub.status.idle": "2023-05-04T15:01:24.911885Z",
     "shell.execute_reply": "2023-05-04T15:01:24.910999Z",
     "shell.execute_reply.started": "2023-05-04T15:01:24.890482Z"
    }
   },
   "outputs": [],
   "source": [
    "class CA_Act(nn.Module):\n",
    "    def __init__(self):\n",
    "        super(CA_Act, self).__init__()\n",
    "        self.relu = nn.ReLU6(True)\n",
    "        \n",
    "    def forward(self, x):\n",
    "        out = self.relu(x + 3) / 6\n",
    "        return x * out\n",
    "    \n",
    "class CA_Layer(nn.Module):\n",
    "    def __init__(self, in_channel, out_channel):\n",
    "        super(CA_Layer, self).__init__()\n",
    "        self.pool_h = nn.AdaptiveAvgPool2d((None, 1))\n",
    "        self.pool_w = nn.AdaptiveAvgPool2d((1, None))\n",
    "        \n",
    "        middle_channel = max(8, in_channel//32)\n",
    "        \n",
    "        self.conv1 = nn.Conv2d(in_channel, middle_channel, kernel_size=1, stride=1, padding=0)\n",
    "        self.bn1 = nn.BatchNorm2d(middle_channel)\n",
    "        self.conv2 = nn.Conv2d(middle_channel, out_channel, kernel_size=1, stride=1, padding=0)\n",
    "        self.conv3 = nn.Conv2d(middle_channel, out_channel, kernel_size=1, stride=1, padding=0)\n",
    "        self.relu = CA_Act()\n",
    "        \n",
    "    def forward(self, x):\n",
    "        identity = x\n",
    "        n, c, h, w = x.size()\n",
    "        x_h = self.pool_h(x)\n",
    "        x_w = self.pool_w(x).permute(0, 1, 3, 2)\n",
    "        \n",
    "        y = torch.cat([x_h, x_w], dim=2)\n",
    "        y = self.relu(self.bn1(self.conv1(y)))\n",
    "        x_h, x_w = torch.split(y, [h, w], dim=2)\n",
    "        x_w = x_w.permute(0, 1, 3, 2)\n",
    "        \n",
    "        x_h = self.conv2(x_h).sigmoid()\n",
    "        x_w = self.conv3(x_w).sigmoid()\n",
    "        x_h = x_h.expand(-1, -1, h, w)\n",
    "        x_w = x_w.expand(-1, -1, h, w)\n",
    "        \n",
    "        out = identity * x_w * x_h\n",
    "        return out\n",
    "    \n",
    "def make_divisible(v, divisor, min_value=None):\n",
    "    if min_value is None:\n",
    "        min_value = divisor\n",
    "    new_v = max(min_value, int(v + divisor / 2) // divisor * divisor)\n",
    "    if new_v < 0.9 * v:\n",
    "        new_v += divisor\n",
    "    return new_v\n",
    "\n",
    "def conv3x3(in_channel, out_channel, stride):\n",
    "    return nn.Sequential(\n",
    "        nn.Conv2d(in_channel, out_channel, 3, stride, 1, bias=False),\n",
    "        nn.BatchNorm2d(out_channel),\n",
    "        nn.ReLU6(True)\n",
    "    )\n",
    "\n",
    "def conv1x1(in_channel, out_channel):\n",
    "    return nn.Sequential(\n",
    "        nn.Conv2d(in_channel, out_channel, 1, 1, 0, bias=False),\n",
    "        nn.BatchNorm2d(out_channel),\n",
    "        nn.ReLU6(True)\n",
    "    )\n",
    "\n",
    "class InvertedResidual(nn.Module):\n",
    "    def __init__(self, in_channel, out_channel, stride, expansion):\n",
    "        super(InvertedResidual, self).__init__()\n",
    "        \n",
    "        hidden_dim = round(in_channel * expansion)\n",
    "        self.identity = stride == 1 and in_channel == out_channel\n",
    "        \n",
    "        if expansion == 1:\n",
    "            self.conv = nn.Sequential(\n",
    "                nn.Conv2d(hidden_dim, hidden_dim, 3, stride, 1, groups=hidden_dim, bias=False),\n",
    "                nn.BatchNorm2d(hidden_dim),\n",
    "                nn.ReLU6(True),\n",
    "                nn.Conv2d(hidden_dim, out_channel, 1, 1, 0, bias=False),\n",
    "                nn.BatchNorm2d(out_channel),\n",
    "                nn.ReLU6(True)\n",
    "            )\n",
    "        else:\n",
    "            self.conv = nn.Sequential(\n",
    "                nn.Conv2d(in_channel, hidden_dim, 1, 1, 0, bias=False),\n",
    "                nn.BatchNorm2d(hidden_dim),\n",
    "                nn.ReLU6(True),\n",
    "                nn.Conv2d(hidden_dim, hidden_dim, 3, stride, 1, groups=hidden_dim, bias=False),\n",
    "                nn.BatchNorm2d(hidden_dim),\n",
    "                nn.ReLU6(True),\n",
    "                CA_Layer(hidden_dim, hidden_dim),\n",
    "                nn.Conv2d(hidden_dim, out_channel, 1, 1, 0, bias=False),\n",
    "                nn.BatchNorm2d(out_channel),\n",
    "                nn.ReLU6(True)\n",
    "            )\n",
    "    \n",
    "    def forward(self, x):\n",
    "        out = self.conv(x)\n",
    "        if self.identity:\n",
    "            return out + x\n",
    "        else:\n",
    "            return out\n",
    "\n",
    "class CANet(nn.Module):\n",
    "    def __init__(self, num_classes=100, width_mult=1.):\n",
    "        super(CANet, self).__init__()\n",
    "        self.config = [\n",
    "            # t, c, n, s\n",
    "            [1, 32, 1, 1],\n",
    "            [6, 64, 2, 2],\n",
    "            [6, 128, 3, 2],\n",
    "            [6, 192, 2, 2],\n",
    "            [6, 256, 1, 1],\n",
    "#             [6, 320, 2, 2],\n",
    "#             [6, 640, 1, 1],\n",
    "        ]\n",
    "        \n",
    "        in_channel = make_divisible(32*width_mult, 4 if width_mult == 0.1 else 8)\n",
    "        layers = [conv3x3(3, in_channel, 2)]\n",
    "        block = InvertedResidual\n",
    "        for t, c, n, s in self.config:\n",
    "            out_channel = make_divisible(c * width_mult, 4 if width_mult ==0.1 else 8)\n",
    "            for i in range(n):\n",
    "                layers.append(block(in_channel, out_channel, s if i == 0 else 1, t))\n",
    "                in_channel = out_channel\n",
    "        self.features = nn.Sequential(*layers)\n",
    "        \n",
    "        out_channel =  make_divisible(1280 * width_mult, 4 if width_mult == 0.1 else 8) if width_mult > 1.0 else 1280\n",
    "        self.conv = conv1x1(in_channel, out_channel)\n",
    "        self.avgpool = nn.AdaptiveAvgPool2d((1, 1))\n",
    "        self.classifier = nn.Sequential(\n",
    "            nn.Dropout(0.1),\n",
    "            nn.Linear(out_channel, num_classes)\n",
    "        )\n",
    "        self.initialize_weights()\n",
    "        \n",
    "    def forward(self, x):\n",
    "        out = self.features(x)\n",
    "        out = self.conv(out)\n",
    "        out = self.avgpool(out)\n",
    "        out = out.view(out.size(0), -1)\n",
    "        out = self.classifier(out)\n",
    "        return out\n",
    "    \n",
    "    def initialize_weights(self):\n",
    "        for m in self.modules():\n",
    "            if isinstance(m, nn.Conv2d):\n",
    "                n = m.kernel_size[0] * m.kernel_size[1] * m.out_channels\n",
    "                m.weight.data.normal_(0, math.sqrt(2. / n))\n",
    "                if m.bias is not None:\n",
    "                    m.bias.data.zero_()\n",
    "            elif isinstance(m, nn.BatchNorm2d):\n",
    "                m.weight.data.fill_(1)\n",
    "                m.bias.data.zero_()\n",
    "            elif isinstance(m, nn.Linear):\n",
    "                m.weight.data.normal_(0, 0.01)\n",
    "                m.bias.data.zero_()"
   ]
  },
  {
   "cell_type": "code",
   "execution_count": 11,
   "id": "5d7f905c",
   "metadata": {
    "execution": {
     "iopub.execute_input": "2023-05-04T15:01:24.914094Z",
     "iopub.status.busy": "2023-05-04T15:01:24.913446Z",
     "iopub.status.idle": "2023-05-04T15:01:24.922986Z",
     "shell.execute_reply": "2023-05-04T15:01:24.922156Z",
     "shell.execute_reply.started": "2023-05-04T15:01:24.914061Z"
    }
   },
   "outputs": [],
   "source": [
    "def get_lr(optimizer):\n",
    "    for param_group in optimizer.param_groups:\n",
    "        return param_group['lr']\n",
    "def adjust_learning_rate(optimizer, current_iter, warmup_iter, max_warm_up_lr):\n",
    "    if current_iter < warmup_iter:\n",
    "        lr = max_warm_up_lr * current_iter / warmup_iter\n",
    "    for param_group in optimizer.param_groups:\n",
    "        param_group['lr'] = lr"
   ]
  },
  {
   "cell_type": "code",
   "execution_count": 12,
   "id": "0637f5fe",
   "metadata": {
    "execution": {
     "iopub.execute_input": "2023-05-04T15:01:24.936343Z",
     "iopub.status.busy": "2023-05-04T15:01:24.936012Z",
     "iopub.status.idle": "2023-05-04T15:01:24.948830Z",
     "shell.execute_reply": "2023-05-04T15:01:24.947881Z",
     "shell.execute_reply.started": "2023-05-04T15:01:24.936313Z"
    },
    "scrolled": true
   },
   "outputs": [],
   "source": [
    "loss_arr = []\n",
    "acc_arr = []\n",
    "lr_arr = []\n",
    "\n",
    "def fit(model, epochs, train_loader, valid_loader, optimizer, lr_scheduler,\n",
    "        loss_fn, updata_lr_every_epoch, warm_up=False, max_warm_up_lr=0.01, grad_clip=None, PATH='./SKNet.pth'):\n",
    "    log_interval = int((50000/batch_size)/2)\n",
    "    for epoch in range(epochs):\n",
    "        print(f\"{'='*20} Epoch: {epoch+1} {'='*20}\\n\")\n",
    "        model.train()\n",
    "        avg_loss = 0\n",
    "        \n",
    "        for i, (inputs, targets) in enumerate(train_loader):\n",
    "            if warm_up != False and epoch <= warm_up:\n",
    "                adjust_learning_rate(optimizer, (i+1)+epoch*len(train_loader), len(train_loader)*warm_up, max_warm_up_lr=max_warm_up_lr)\n",
    "                lr_arr.append(get_lr(optimizer))\n",
    "            outputs = model(inputs.to(device))\n",
    "            loss = loss_fn(outputs, targets.to(device))\n",
    "            loss.backward()\n",
    "            if grad_clip is not None:\n",
    "                nn.utils.clip_grad_value_(model.parameters(), grad_clip)\n",
    "            optimizer.step()\n",
    "            if lr_scheduler is not None and updata_lr_every_epoch == False:\n",
    "                lr_scheduler.step()\n",
    "                lr_arr.append(get_lr(optimizer))\n",
    "            optimizer.zero_grad()\n",
    "            \n",
    "            avg_loss += loss.item()\n",
    "            if i % log_interval == log_interval-1:\n",
    "                avg_loss = avg_loss/log_interval\n",
    "                print(f\"batch: {i+1}, train_loss: {avg_loss:.4f}\")\n",
    "                avg_loss = 0\n",
    "                \n",
    "        if lr_scheduler is not None and updata_lr_every_epoch == True:\n",
    "            lr_scheduler.step()\n",
    "            lr_arr.append(get_lr(optimizer))\n",
    "        if lr_scheduler is None:\n",
    "            lr_arr.append(get_lr(optimizer))\n",
    "        \n",
    "        model.eval()\n",
    "        top1_correct = 0\n",
    "        top5_correct = 0\n",
    "        total = 0\n",
    "        avg_loss = 0\n",
    "        with torch.no_grad():\n",
    "            for (images, labels) in valid_loader:\n",
    "                labels = labels.to(device)\n",
    "                outputs = model(images.to(device))\n",
    "                _, predicted = torch.topk(outputs.data, 5, dim=1, largest=True, sorted=True)\n",
    "                total += labels.cpu().size(0)\n",
    "                top1_correct += (predicted[:, 0] == labels).sum().item()\n",
    "                for i in range(len(labels)):\n",
    "                    if labels[i] in predicted[i]:\n",
    "                        top5_correct += 1\n",
    "                avg_loss += loss_fn(outputs, labels)\n",
    "            avg_loss = avg_loss.cpu() / len(valid_loader)\n",
    "            loss_arr.append(avg_loss)\n",
    "            top1_acc = 100 * top1_correct / total\n",
    "            top5_acc = 100 * top5_correct / total\n",
    "            acc_arr.append(top1_acc)\n",
    "            \n",
    "        print(f'Top1 Accuracy: {top1_acc}% ({top1_correct} / {total}), Top5 Accuracy: {top5_acc}% ({top5_correct} / {total}), Loss: {avg_loss:.3f}, Last_lr: {lr_arr[-1]:.5f}')\n",
    "    torch.save(model, PATH)"
   ]
  },
  {
   "cell_type": "code",
   "execution_count": 13,
   "id": "8e809543",
   "metadata": {
    "execution": {
     "iopub.execute_input": "2023-05-04T15:01:24.950666Z",
     "iopub.status.busy": "2023-05-04T15:01:24.950333Z",
     "iopub.status.idle": "2023-05-04T15:01:25.412054Z",
     "shell.execute_reply": "2023-05-04T15:01:25.410991Z",
     "shell.execute_reply.started": "2023-05-04T15:01:24.950627Z"
    }
   },
   "outputs": [
    {
     "name": "stdout",
     "output_type": "stream",
     "text": [
      "Number of parameter: 2.73M\n"
     ]
    }
   ],
   "source": [
    "model = CANet().to(device)\n",
    "num_param = sum([param.nelement() for param in model.parameters()])\n",
    "print(\"Number of parameter: %.2fM\" % (num_param/1e6))"
   ]
  },
  {
   "cell_type": "code",
   "execution_count": null,
   "id": "51a76e57",
   "metadata": {
    "scrolled": true
   },
   "outputs": [],
   "source": [
    "%%time\n",
    "\n",
    "epochs = 30\n",
    "# optimizer = optim.SGD(model.parameters(), lr=0.01, momentum=0.9, weight_decay=5e-4)\n",
    "optimizer = optim.Adam(model.parameters(), lr=0.001, betas=(0.9, 0.999), eps=1e-08)\n",
    "# sched = optim.lr_scheduler.MultiStepLR(optimizer, milestones=[10, 20], gamma=0.2)\n",
    "sched = optim.lr_scheduler.OneCycleLR(optimizer, 0.01, epochs=epochs,\n",
    "                                      steps_per_epoch=len(trainloader))\n",
    "\n",
    "fit(model=model,\n",
    "    epochs=epochs,\n",
    "    train_loader=trainloader,\n",
    "    valid_loader=testloader,\n",
    "    optimizer=optimizer,\n",
    "    lr_scheduler=sched,\n",
    "    loss_fn=nn.CrossEntropyLoss(),\n",
    "    warm_up=False, max_warm_up_lr=0.01,\n",
    "    grad_clip=None, updata_lr_every_epoch=False, PATH='./CANet.pth')"
   ]
  },
  {
   "cell_type": "code",
   "execution_count": 8,
   "id": "752ad812",
   "metadata": {
    "execution": {
     "iopub.execute_input": "2023-05-04T15:37:05.048501Z",
     "iopub.status.busy": "2023-05-04T15:37:05.047673Z",
     "iopub.status.idle": "2023-05-04T15:37:05.549850Z",
     "shell.execute_reply": "2023-05-04T15:37:05.549044Z",
     "shell.execute_reply.started": "2023-05-04T15:37:05.048461Z"
    }
   },
   "outputs": [
    {
     "data": {
      "text/plain": [
       "Text(0.5, 1.0, 'loss')"
      ]
     },
     "execution_count": 8,
     "metadata": {},
     "output_type": "execute_result"
    },
    {
     "data": {
      "image/png": "[encoded data removed]",
      "text/plain": [
       "<Figure size 300x200 with 1 Axes>"
      ]
     },
     "metadata": {},
     "output_type": "display_data"
    },
    {
     "data": {
      "image/png": "[encoded data removed]",
      "text/plain": [
       "<Figure size 350x250 with 1 Axes>"
      ]
     },
     "metadata": {},
     "output_type": "display_data"
    },
    {
     "data": {
      "image/png": "[encoded data removed]",
      "text/plain": [
       "<Figure size 300x200 with 1 Axes>"
      ]
     },
     "metadata": {},
     "output_type": "display_data"
    }
   ],
   "source": [
    "plt.figure(figsize=(3, 2))\n",
    "plt.plot(loss_arr)\n",
    "plt.title('loss')\n",
    "\n",
    "plt.figure(figsize=(3, 2))\n",
    "plt.plot(acc_arr)\n",
    "plt.title('Arr')\n",
    "\n",
    "plt.figure(figsize=(3, 2))\n",
    "plt.plot(lr_arr)\n",
    "plt.title('LR')"
   ]
  },
  {
   "cell_type": "code",
   "execution_count": null,
   "id": "95d980a0",
   "metadata": {},
   "outputs": [],
   "source": []
  }
 ],
 "metadata": {
  "kernelspec": {
   "display_name": "Python 3 (ipykernel)",
   "language": "python",
   "name": "python3"
  },
  "language_info": {
   "codemirror_mode": {
    "name": "ipython",
    "version": 3
   },
   "file_extension": ".py",
   "mimetype": "text/x-python",
   "name": "python",
   "nbconvert_exporter": "python",
   "pygments_lexer": "ipython3",
   "version": "3.10.11"
  }
 },
 "nbformat": 4,
 "nbformat_minor": 5
}
