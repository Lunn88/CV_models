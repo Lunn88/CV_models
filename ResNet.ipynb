{
 "cells": [
  {
   "cell_type": "code",
   "execution_count": 1,
   "id": "fec67c55",
   "metadata": {},
   "outputs": [
    {
     "name": "stdout",
     "output_type": "stream",
     "text": [
      "Files already downloaded and verified\n",
      "Files already downloaded and verified\n"
     ]
    }
   ],
   "source": [
    "import torch\n",
    "import torchvision\n",
    "import torchvision.transforms as transforms\n",
    "import torch.nn as nn\n",
    "import torch.optim as optim\n",
    "from torch.optim import lr_scheduler\n",
    "import matplotlib.pyplot as plt\n",
    "import numpy as np\n",
    "import math\n",
    "\n",
    "device = 'cuda'\n",
    "\n",
    "batch_size = 256\n",
    "\n",
    "transform = transforms.Compose([\n",
    "    transforms.RandomHorizontalFlip(),\n",
    "    transforms.RandomCrop(32, padding=4, padding_mode='reflect'),\n",
    "#     transforms.RandomRotation(degrees=(-45, 45)),\n",
    "#     transforms.ColorJitter(brightness=.5,hue=0.5), # 改变图像的亮度和饱和度\n",
    "    transforms.ToTensor(),\n",
    "    transforms.Normalize([0.485, 0.456, 0.406],[0.229, 0.224, 0.225])\n",
    "])\n",
    "\n",
    "trainset = torchvision.datasets.CIFAR100(root='./data', train=True,\n",
    "                                        download=True, transform=transform)\n",
    "trainloader = torch.utils.data.DataLoader(trainset, batch_size=batch_size,\n",
    "                                          shuffle=True, pin_memory=True, num_workers=4)\n",
    "\n",
    "testset = torchvision.datasets.CIFAR100(root='./data', train=False,\n",
    "                                       download=True, transform=transform)\n",
    "testloader = torch.utils.data.DataLoader(testset, batch_size=batch_size*2,\n",
    "                                         shuffle=False, pin_memory=True, num_workers=4)"
   ]
  },
  {
   "cell_type": "markdown",
   "id": "d64008b1",
   "metadata": {},
   "source": [
    "# Res-Net"
   ]
  },
  {
   "cell_type": "code",
   "execution_count": 2,
   "id": "cce070bc",
   "metadata": {},
   "outputs": [],
   "source": [
    "def conv3x3(in_planes, out_planes, stride=1):\n",
    "    return nn.Conv2d(in_planes, out_planes,\n",
    "                     kernel_size=3, stride=stride,\n",
    "                     padding=1, bias=False)\n",
    "def conv1x1(in_planes, out_planes, stride=1):\n",
    "    return nn.Conv2d(in_planes, out_planes,\n",
    "                     kernel_size=1, stride=stride, bias=False)\n",
    "\n",
    "class BasicBlock(nn.Module):\n",
    "    expansion=1\n",
    "    def __init__(self, in_planes, out_planes, stride=1, downsample=None):\n",
    "        super(BasicBlock, self).__init__()\n",
    "        self.conv1 = conv3x3(in_planes, out_planes, stride)\n",
    "        self.bn1= nn.BatchNorm2d(out_planes)\n",
    "        self.relu = nn.ReLU(True) # replace the original value\n",
    "        self.conv2 = conv3x3(out_planes, out_planes)\n",
    "        self.bn2 = nn.BatchNorm2d(out_planes)\n",
    "        self.downsample = downsample\n",
    "        self.stride = stride\n",
    "    \n",
    "    def forward(self, x):\n",
    "        if self.downsample is not None:\n",
    "            identity = self.downsample(x)\n",
    "        else:\n",
    "            identity = x\n",
    "            \n",
    "        out = self.conv1(x)\n",
    "        out = self.bn1(out)\n",
    "        out = self.relu(out)\n",
    "        \n",
    "        out = self.conv2(out)\n",
    "        out = self.bn2(out)\n",
    "        \n",
    "        out += identity\n",
    "        out = self.relu(out)\n",
    "        return out\n",
    "    \n",
    "class Bottleneck(nn.Module):\n",
    "    expansion = 4\n",
    "    def __init__(self, in_planes, out_planes, stride=1, downsample=None):\n",
    "        super(Bottleneck, self).__init__()\n",
    "        self.conv1 = conv1x1(in_planes, out_planes)\n",
    "        self.bn1 = nn.BatchNorm2d(out_planes)\n",
    "        self.conv2 = conv3x3(out_planes, out_planes, stride)\n",
    "        self.bn2 = nn.BatchNorm2d(out_planes)\n",
    "        self.conv3 = conv1x1(out_planes, out_planes*self.expansion)\n",
    "        self.bn3 = nn.BatchNorm2d(out_planes*self.expansion)\n",
    "        self.relu = nn.ReLU(True)\n",
    "        self.downsample = downsample\n",
    "        self.stride = stride\n",
    "        \n",
    "    def forward(self, x):\n",
    "        if self.downsample is not None:\n",
    "            identity = self.downsample(x)\n",
    "        else:\n",
    "            identity = x\n",
    "            \n",
    "        out = self.conv1(x)\n",
    "        out = self.bn1(out)\n",
    "        out = self.relu(out)\n",
    "        \n",
    "        out = self.conv2(out)\n",
    "        out = self.bn2(out)\n",
    "        out = self.relu(out)\n",
    "        \n",
    "        out = self.conv3(out)\n",
    "        out = self.bn3(out)\n",
    "        \n",
    "        out += identity\n",
    "        out = self.relu(out)\n",
    "        return out\n",
    "\n",
    "class ResNet(nn.Module):\n",
    "    def __init__(self, block, layers, num_classes=100):\n",
    "        super().__init__()\n",
    "        self.in_planes = 64\n",
    "        self.conv1 = nn.Conv2d(3, self.in_planes, kernel_size=7, stride=2, padding=3, bias=False)\n",
    "        self.bn1 = nn.BatchNorm2d(self.in_planes)\n",
    "        self.relu = nn.ReLU(True)\n",
    "        self.maxpool = nn.MaxPool2d(kernel_size=3, stride=2, padding=1)\n",
    "\n",
    "        self.layer1 = self.make_layer(block, 128, layers[0])\n",
    "        self.layer2 = self.make_layer(block, 256, layers[1], stride=2)\n",
    "        self.layer3 = self.make_layer(block, 512, layers[2], stride=2)\n",
    "        self.layer4 = self.make_layer(block, 1024, layers[3], stride=2)\n",
    "        \n",
    "        self.avgpool = nn.AdaptiveAvgPool2d((1, 1))\n",
    "        self.fc = nn.Linear(1024*block.expansion, num_classes)\n",
    "        \n",
    "        for m in self.modules():\n",
    "            if isinstance(m, nn.Conv2d):\n",
    "                n = m.kernel_size[0] * m.kernel_size[1] * m.out_channels\n",
    "                m.weight.data.normal_(0, math.sqrt(2. / n))\n",
    "            elif isinstance(m, nn.BatchNorm2d):\n",
    "                m.weight.data.fill_(1)\n",
    "                m.bias.data.zero_()\n",
    "\n",
    "    def make_layer(self, block, out_planes, blocks, stride=1):\n",
    "        downsample = None\n",
    "        if stride != 1 or self.in_planes != out_planes * block.expansion:\n",
    "            downsample = nn.Sequential(\n",
    "                conv1x1(self.in_planes, out_planes*block.expansion, stride),\n",
    "                nn.BatchNorm2d(out_planes*block.expansion)\n",
    "            )\n",
    "        \n",
    "        layers = []\n",
    "        layers.append(block(self.in_planes, out_planes, stride, downsample))\n",
    "        self.in_planes = out_planes*block.expansion\n",
    "        for i in range(1, blocks):\n",
    "            layers.append(block(self.in_planes, out_planes))\n",
    "            \n",
    "        return nn.Sequential(*layers)\n",
    "    \n",
    "    def forward(self, x):\n",
    "        out = self.conv1(x)\n",
    "        out = self.bn1(out)\n",
    "        out = self.relu(out)\n",
    "        out = self.maxpool(out)\n",
    "        \n",
    "        out = self.layer1(out)\n",
    "        out = self.layer2(out)\n",
    "        out = self.layer3(out)\n",
    "        out = self.layer4(out)\n",
    "        \n",
    "        out = self.avgpool(out)\n",
    "        out = torch.flatten(out, 1)\n",
    "        out = self.fc(out)\n",
    "        return out\n",
    "    \n",
    "def ResNet18():\n",
    "    model = ResNet(BasicBlock, [2,2,2,2])\n",
    "    return model\n",
    "def ResNet34():\n",
    "    model = ResNet(BasicBlock, [3,4,6,3])\n",
    "    return model\n",
    "def ResNet50():\n",
    "    model = ResNet(Bottleneck, [3,4,6,3])\n",
    "    return model"
   ]
  },
  {
   "cell_type": "code",
   "execution_count": 3,
   "id": "77e79942",
   "metadata": {},
   "outputs": [],
   "source": [
    "def conv_block(in_channels, out_channels, pool=False):\n",
    "    layers = [nn.Conv2d(in_channels, out_channels, kernel_size=3, padding=1), \n",
    "              nn.BatchNorm2d(out_channels), \n",
    "              nn.ReLU(inplace=True)]\n",
    "    if pool: layers.append(nn.MaxPool2d(2))\n",
    "    return nn.Sequential(*layers)\n",
    "\n",
    "class ResNet9(nn.Module):\n",
    "    def __init__(self, in_channels = 3, num_classes = 100):\n",
    "        super().__init__()\n",
    "        \n",
    "        self.conv1 = conv_block(in_channels, 64)\n",
    "        self.conv2 = conv_block(64, 128, pool=True) \n",
    "        self.res1 = nn.Sequential(conv_block(128, 128), conv_block(128, 128)) \n",
    "        \n",
    "        self.conv3 = conv_block(128, 256, pool=True)\n",
    "        self.conv4 = conv_block(256, 512, pool=True) \n",
    "        self.res2 = nn.Sequential(conv_block(512, 512), conv_block(512, 512)) \n",
    "        self.conv5 = conv_block(512, 1024, pool=True) \n",
    "        self.res3 = nn.Sequential(conv_block(1024, 1024), conv_block(1024, 1024))  \n",
    "        \n",
    "        self.classifier = nn.Sequential(nn.MaxPool2d(2), # 1024 x 1 x 1\n",
    "                                        nn.Flatten(), # 1024 \n",
    "                                        nn.Linear(1024, num_classes)) # 1024 -> 100\n",
    "        \n",
    "    def forward(self, x):\n",
    "        out = self.conv1(x)\n",
    "        out = self.conv2(out)\n",
    "        out = self.res1(out) + out\n",
    "\n",
    "        out = self.conv3(out)\n",
    "        out = self.conv4(out)\n",
    "        out = self.res2(out) + out\n",
    "\n",
    "        out = self.conv5(out)\n",
    "        out = self.res3(out) + out\n",
    "        out = self.classifier(out)\n",
    "        return out\n"
   ]
  },
  {
   "cell_type": "code",
   "execution_count": 5,
   "id": "fdb2e4b0",
   "metadata": {},
   "outputs": [],
   "source": [
    "def get_lr(optimizer):\n",
    "    for param_group in optimizer.param_groups:\n",
    "        return param_group['lr']\n",
    "def adjust_learning_rate(optimizer, current_iter, warmup_iter, max_warm_up_lr=0.1):\n",
    "    if current_iter <= warmup_iter:\n",
    "        lr = max_warm_up_lr * current_iter / warmup_iter\n",
    "    for param_group in optimizer.param_groups:\n",
    "        param_group['lr'] = lr"
   ]
  },
  {
   "cell_type": "code",
   "execution_count": 6,
   "id": "97b58614",
   "metadata": {
    "scrolled": true
   },
   "outputs": [],
   "source": [
    "loss_arr = []\n",
    "acc_arr = []\n",
    "lr_arr = []\n",
    "\n",
    "def fit(model, epochs, train_loader, valid_loader, optimizer, lr_scheduler,\n",
    "        loss_fn, updata_lr_every_epoch, warm_up=False, grad_clip=None, PATH='Res2Net.pth'):\n",
    "    log_interval = int((50000/batch_size)/2)\n",
    "    for epoch in range(epochs):\n",
    "        print(f\"{'='*20} Epoch: {epoch+1} {'='*20}\\n\")\n",
    "        model.train()\n",
    "        avg_loss = 0\n",
    "        \n",
    "        for i, (inputs, targets) in enumerate(train_loader):\n",
    "            if warm_up == True and epoch < warm_up:\n",
    "                adjust_learning_rate(optimizer, (i+1)+epoch*len(train_loader), len(trainloader)*warm_up, max_warm_up_lr=0.1)\n",
    "\n",
    "            outputs = model(inputs.to(device))\n",
    "            loss = loss_fn(outputs, targets.to(device))\n",
    "            loss.backward()\n",
    "            if grad_clip is not None:\n",
    "                nn.utils.clip_grad_value_(model.parameters(), grad_clip)\n",
    "            optimizer.step()\n",
    "            if updata_lr_every_epoch == False:\n",
    "                sched.step()\n",
    "                lr_arr.append(get_lr(optimizer))\n",
    "            optimizer.zero_grad()\n",
    "            \n",
    "            avg_loss += loss.item()\n",
    "            if i % log_interval == log_interval-1:\n",
    "                print(f\"batch: {i+1}, train_loss: {avg_loss/log_interval:.4f}\")\n",
    "        if updata_lr_every_epoch == True:\n",
    "            sched.step()\n",
    "            lr_arr.append(get_lr(optimizer))\n",
    "        \n",
    "        model.eval()\n",
    "        correct = 0\n",
    "        total = 0\n",
    "        avg_loss = 0\n",
    "        with torch.no_grad():\n",
    "            for (images, labels) in valid_loader:\n",
    "                outputs = model(images.to(device))\n",
    "                _, predicted = torch.max(outputs.data, 1)\n",
    "                total += labels.size(0)\n",
    "                correct += (predicted == labels.to(device)).sum().item()\n",
    "                total_loss += loss_fn(outputs, labels.to(device))\n",
    "            loss_arr.append(total_loss.cpu() / len(testloader))\n",
    "            acc = 100 * correct / total\n",
    "            acc_arr.append(acc)\n",
    "\n",
    "        print(f'Accuracy: {acc}% ({correct} / {total}), Loss: {total_loss.cpu() / len(testloader):.3f}, Last_lr: {lr_arr[-1]:.5f}')\n",
    "    torch.save(model, PATH)"
   ]
  },
  {
   "cell_type": "code",
   "execution_count": 8,
   "id": "cd792e2a",
   "metadata": {},
   "outputs": [
    {
     "name": "stdout",
     "output_type": "stream",
     "text": [
      "Number of parameter: 30.27M\n"
     ]
    }
   ],
   "source": [
    "model = ResNet9().to(device)\n",
    "num_param = sum([param.nelement() for param in model.parameters()])\n",
    "print(\"Number of parameter: %.2fM\" % (num_param/1e6))"
   ]
  },
  {
   "cell_type": "code",
   "execution_count": null,
   "id": "43853161",
   "metadata": {},
   "outputs": [],
   "source": [
    "epochs = 40\n",
    "# optimizer = optim.SGD(model.parameters(), lr=max_lr, momentum=0.9, weight_decay=5e-4)\n",
    "optimizer = optim.Adam(model.parameters(), lr=max_lr, weight_decay=5e-4)\n",
    "# sched = optim.lr_scheduler.MultiStepLR(optimizer, milestones=[10, 20], gamma=0.2)\n",
    "sched = optim.lr_scheduler.OneCycleLR(optimizer, 0.001, epochs=epochs,\n",
    "                                      steps_per_epoch=len(trainloader))\n",
    "\n",
    "\n",
    "fit(model=model,\n",
    "    epochs=epochs,\n",
    "    train_loader=trainloader,\n",
    "    valid_loader=testloader,\n",
    "    optimizer=optimizer,\n",
    "    lr_scheduler=sched,\n",
    "    loss_fn=nn.CrossEntropyLoss(),\n",
    "    warm_up=False, grad_clip=None, updata_lr_every_epoch=False, PATH='/ResNet.pth')"
   ]
  },
  {
   "cell_type": "code",
   "execution_count": 8,
   "id": "29998dfd",
   "metadata": {
    "scrolled": false
   },
   "outputs": [
    {
     "data": {
      "text/plain": [
       "Text(0.5, 1.0, 'LR')"
      ]
     },
     "execution_count": 8,
     "metadata": {},
     "output_type": "execute_result"
    },
    {
     "data": {
      "image/png": "[encoded data removed]",
      "text/plain": [
       "<Figure size 300x200 with 1 Axes>"
      ]
     },
     "metadata": {},
     "output_type": "display_data"
    },
    {
     "data": {
      "image/png": "[encoded data removed]",
      "text/plain": [
       "<Figure size 300x200 with 1 Axes>"
      ]
     },
     "metadata": {},
     "output_type": "display_data"
    },
    {
     "data": {
      "image/png": "[encoded data removed]",
      "text/plain": [
       "<Figure size 300x200 with 1 Axes>"
      ]
     },
     "metadata": {},
     "output_type": "display_data"
    }
   ],
   "source": [
    "plt.figure(figsize=(3, 2))\n",
    "plt.plot(loss_arr)\n",
    "plt.title('loss')\n",
    "\n",
    "plt.figure(figsize=(3, 2))\n",
    "plt.plot(acc_arr)\n",
    "plt.title('Arr')\n",
    "\n",
    "plt.figure(figsize=(3, 2))\n",
    "plt.plot(lr_arr)\n",
    "plt.title('LR')"
   ]
  },
  {
   "cell_type": "code",
   "execution_count": 9,
   "id": "67413772",
   "metadata": {},
   "outputs": [],
   "source": [
    "# PATH = './ResNet.pth'\n",
    "# torch.save(model.state_dict(), PATH)"
   ]
  },
  {
   "cell_type": "code",
   "execution_count": null,
   "id": "e9faa62a",
   "metadata": {},
   "outputs": [],
   "source": []
  }
 ],
 "metadata": {
  "kernelspec": {
   "display_name": "Python 3 (ipykernel)",
   "language": "python",
   "name": "python3"
  },
  "language_info": {
   "codemirror_mode": {
    "name": "ipython",
    "version": 3
   },
   "file_extension": ".py",
   "mimetype": "text/x-python",
   "name": "python",
   "nbconvert_exporter": "python",
   "pygments_lexer": "ipython3",
   "version": "3.10.11"
  }
 },
 "nbformat": 4,
 "nbformat_minor": 5
}
